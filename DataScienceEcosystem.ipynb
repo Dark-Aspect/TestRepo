{
 "cells": [
  {
   "cell_type": "markdown",
   "id": "fb5f43fc-5d6f-4628-a9a5-f7ab4d7d3ac0",
   "metadata": {},
   "source": [
    "# Data Science Tools and Ecosystem"
   ]
  },
  {
   "cell_type": "markdown",
   "id": "95f52e84-9473-4555-a08b-464cfe3d7671",
   "metadata": {},
   "source": [
    "In this notebook, Data Science Tools and Ecosystem are summarized and also the final assignment to be reviewed is included"
   ]
  },
  {
   "cell_type": "markdown",
   "id": "5a844db4-6a2f-46dd-8e06-b3cae26c2211",
   "metadata": {},
   "source": [
    "**Objectives:**\n",
    "- List popular languages for Data Science\n",
    "- List common libraries used by Data Scientists\n",
    "- Create a Table with some development environment open Source tools used in Data Science\n",
    "- Evaluate some arithmetic expressions in Python\n",
    "- Convert minutes to hours"
   ]
  },
  {
   "cell_type": "markdown",
   "id": "8efaad10-9c31-497e-aeb2-7a81d02645f9",
   "metadata": {},
   "source": [
    "Some of the popular languages that Data Scientists use are:\n",
    "1. Python\n",
    "2. R\n",
    "3. SQL\n",
    "4. Java"
   ]
  },
  {
   "attachments": {},
   "cell_type": "markdown",
   "id": "41f6b7bd-1ca3-42e3-961a-43b44acd459e",
   "metadata": {},
   "source": [
    "Some of the commonly used libraries used by Data Scientists include:\n",
    "1. NumPy\n",
    "2. Pandas\n",
    "3. Matplotlib\n",
    "4. Seaborn\n",
    "5. Scikit-learn\n",
    "6. TensorFlow\n",
    "7. PyTorch\n",
    "8. Keras"
   ]
  },
  {
   "cell_type": "markdown",
   "id": "76ee4d59-88f4-477a-871b-5f5a207af79c",
   "metadata": {},
   "source": [
    "|Data Science Tools|\n",
    "|-----|\n",
    "|1. Jupyter Notebook|\n",
    "|2. RStudio|\n",
    "|3. Visual Studio Code|"
   ]
  },
  {
   "cell_type": "markdown",
   "id": "efffe578-296f-45a3-bd83-61c36dbf924e",
   "metadata": {},
   "source": [
    "### Below are a few examples of evaluating arithmetic expressions in Python:"
   ]
  },
  {
   "cell_type": "code",
   "execution_count": 7,
   "id": "071811d0-ddac-4301-bf94-5e8a0bae0c57",
   "metadata": {},
   "outputs": [
    {
     "data": {
      "text/plain": [
       "17"
      ]
     },
     "execution_count": 7,
     "metadata": {},
     "output_type": "execute_result"
    }
   ],
   "source": [
    "# This a simple arithmetic expression to mutiply then add integers\n",
    "\n",
    "(3*4)+5"
   ]
  },
  {
   "cell_type": "code",
   "execution_count": 10,
   "id": "7d681a75-0818-42ec-b42d-dfc2fcb7cd18",
   "metadata": {},
   "outputs": [
    {
     "data": {
      "text/plain": [
       "3.3333333333333335"
      ]
     },
     "execution_count": 10,
     "metadata": {},
     "output_type": "execute_result"
    }
   ],
   "source": [
    "# This will convert 200 minutes to hours by diving by 60\n",
    "\n",
    "200 / 60"
   ]
  },
  {
   "cell_type": "markdown",
   "id": "4eee6b27-836f-4930-b51a-658cc437cd3c",
   "metadata": {},
   "source": [
    "## Author\n",
    "Durotoye Abdullahi Ololade"
   ]
  },
  {
   "cell_type": "code",
   "execution_count": null,
   "id": "918e433a-fdca-4435-b2cd-bd2b7341c213",
   "metadata": {},
   "outputs": [],
   "source": []
  }
 ],
 "metadata": {
  "kernelspec": {
   "display_name": "Python [conda env:base] *",
   "language": "python",
   "name": "conda-base-py"
  },
  "language_info": {
   "codemirror_mode": {
    "name": "ipython",
    "version": 3
   },
   "file_extension": ".py",
   "mimetype": "text/x-python",
   "name": "python",
   "nbconvert_exporter": "python",
   "pygments_lexer": "ipython3",
   "version": "3.12.4"
  }
 },
 "nbformat": 4,
 "nbformat_minor": 5
}
